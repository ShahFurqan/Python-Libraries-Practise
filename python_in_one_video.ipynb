{
 "cells": [
  {
   "cell_type": "code",
   "execution_count": 6,
   "id": "1b050328",
   "metadata": {},
   "outputs": [],
   "source": [
    "names={'harry':88,\n",
    "      'kashi':99,\n",
    "      'muskan':77}"
   ]
  },
  {
   "cell_type": "code",
   "execution_count": 7,
   "id": "b230bbb3",
   "metadata": {},
   "outputs": [
    {
     "name": "stdout",
     "output_type": "stream",
     "text": [
      "{'harry': 88, 'kashi': 99, 'muskan': 77}\n"
     ]
    }
   ],
   "source": [
    "print (names)"
   ]
  },
  {
   "cell_type": "markdown",
   "id": "69c58230",
   "metadata": {},
   "source": [
    "# updating dictionary "
   ]
  },
  {
   "cell_type": "code",
   "execution_count": 8,
   "id": "49151e63",
   "metadata": {},
   "outputs": [],
   "source": [
    "names['kashi']=88"
   ]
  },
  {
   "cell_type": "code",
   "execution_count": 9,
   "id": "69bb1f64",
   "metadata": {},
   "outputs": [
    {
     "name": "stdout",
     "output_type": "stream",
     "text": [
      "{'harry': 88, 'kashi': 88, 'muskan': 77}\n"
     ]
    }
   ],
   "source": [
    "print(names)"
   ]
  },
  {
   "cell_type": "code",
   "execution_count": 10,
   "id": "c240a158",
   "metadata": {},
   "outputs": [
    {
     "ename": "ValueError",
     "evalue": "invalid literal for int() with base 10: ''",
     "output_type": "error",
     "traceback": [
      "\u001b[1;31m---------------------------------------------------------------------------\u001b[0m",
      "\u001b[1;31mValueError\u001b[0m                                Traceback (most recent call last)",
      "Cell \u001b[1;32mIn [10], line 1\u001b[0m\n\u001b[1;32m----> 1\u001b[0m number \u001b[38;5;241m=\u001b[39m \u001b[38;5;28;43mint\u001b[39;49m\u001b[43m(\u001b[49m\u001b[38;5;28;43minput\u001b[39;49m\u001b[43m \u001b[49m\u001b[43m(\u001b[49m\u001b[38;5;124;43m'\u001b[39;49m\u001b[38;5;124;43menter the marks\u001b[39;49m\u001b[38;5;124;43m'\u001b[39;49m\u001b[43m)\u001b[49m\u001b[43m)\u001b[49m\n",
      "\u001b[1;31mValueError\u001b[0m: invalid literal for int() with base 10: ''"
     ]
    }
   ],
   "source": [
    "number = int(input ('enter the marks'))"
   ]
  },
  {
   "cell_type": "code",
   "execution_count": null,
   "id": "6a8ad898",
   "metadata": {},
   "outputs": [],
   "source": [
    "if (number >=90):\n",
    "    grade ='A'\n",
    "elif (number >=70 ):\n",
    "    grade='B'\n",
    "else:\n",
    "    grade='do not know'\n",
    "    print ('the grade is ',grade)"
   ]
  },
  {
   "cell_type": "code",
   "execution_count": null,
   "id": "2b618916",
   "metadata": {},
   "outputs": [
    {
     "name": "stdout",
     "output_type": "stream",
     "text": [
      "enter the marks77\n"
     ]
    }
   ],
   "source": [
    "number = int(input ('enter the marks'))\n",
    "if (number >=90):\n",
    "    grade ='A'\n",
    "elif (number >=70 ):\n",
    "    grade='B'\n",
    "else:\n",
    "    grade='do not know'\n",
    "    \n",
    "   "
   ]
  },
  {
   "cell_type": "code",
   "execution_count": null,
   "id": "7228bb78",
   "metadata": {},
   "outputs": [
    {
     "name": "stdout",
     "output_type": "stream",
     "text": [
      "B\n"
     ]
    }
   ],
   "source": [
    "print(grade)"
   ]
  },
  {
   "cell_type": "markdown",
   "id": "bcb1945a",
   "metadata": {},
   "source": [
    "# running for loop"
   ]
  },
  {
   "cell_type": "code",
   "execution_count": null,
   "id": "acf55046",
   "metadata": {},
   "outputs": [
    {
     "name": "stdout",
     "output_type": "stream",
     "text": [
      "eneter the no:4\n",
      "0\n",
      "1\n",
      "2\n",
      "3\n"
     ]
    }
   ],
   "source": [
    "no= int (input(\"eneter the no:\"))\n",
    "for i in range(0,no):\n",
    "    print(i)"
   ]
  },
  {
   "cell_type": "markdown",
   "id": "c13c6bb4",
   "metadata": {},
   "source": [
    "# doing iteration in list"
   ]
  },
  {
   "cell_type": "code",
   "execution_count": null,
   "id": "7a7d71ec",
   "metadata": {},
   "outputs": [
    {
     "name": "stdout",
     "output_type": "stream",
     "text": [
      "list1\n",
      "list2\n",
      "list3\n"
     ]
    }
   ],
   "source": [
    "item = ['list1','list2','list3']\n",
    "for list in item:\n",
    "    print (list)"
   ]
  },
  {
   "cell_type": "markdown",
   "id": "48a437fd",
   "metadata": {},
   "source": [
    "# loop in loop "
   ]
  },
  {
   "cell_type": "code",
   "execution_count": null,
   "id": "d03a1c27",
   "metadata": {},
   "outputs": [
    {
     "name": "stdout",
     "output_type": "stream",
     "text": [
      "1\n",
      "2\n",
      "1\n",
      "2\n",
      "1\n",
      "3\n"
     ]
    }
   ],
   "source": [
    "\n",
    "item = [[1,2],[1,2],[1,3]]\n",
    "for list in item:\n",
    "    for i in list:\n",
    "        print (i)"
   ]
  },
  {
   "cell_type": "markdown",
   "id": "a4ab3828",
   "metadata": {},
   "source": [
    "# while loop "
   ]
  },
  {
   "cell_type": "code",
   "execution_count": null,
   "id": "47d6182b",
   "metadata": {},
   "outputs": [
    {
     "name": "stdout",
     "output_type": "stream",
     "text": [
      "enter the no=4\n",
      "no is ok  4\n",
      "8\n",
      "no is ok  8\n",
      "9\n",
      "no is end 9\n"
     ]
    }
   ],
   "source": [
    "no= int(input(\"enter the no=\"))\n",
    "while (no>=4):\n",
    "    print (\"no is ok \",no)\n",
    "    no=int(input())\n",
    "    if (no==9):\n",
    "        print('no is end',no)\n",
    "        break"
   ]
  },
  {
   "cell_type": "markdown",
   "id": "8a8b62c7",
   "metadata": {},
   "source": [
    "# average fuction "
   ]
  },
  {
   "cell_type": "code",
   "execution_count": null,
   "id": "835148e8",
   "metadata": {},
   "outputs": [],
   "source": [
    "def avg(a,b):\n",
    "    return (a+b)/2\n",
    "     "
   ]
  },
  {
   "cell_type": "code",
   "execution_count": null,
   "id": "248ffcb2",
   "metadata": {},
   "outputs": [
    {
     "data": {
      "text/plain": [
       "2.5"
      ]
     },
     "execution_count": 24,
     "metadata": {},
     "output_type": "execute_result"
    }
   ],
   "source": [
    "avg(2,3)"
   ]
  },
  {
   "cell_type": "markdown",
   "id": "0f776420",
   "metadata": {},
   "source": [
    "# string slicing"
   ]
  },
  {
   "cell_type": "code",
   "execution_count": null,
   "id": "a23821cf",
   "metadata": {},
   "outputs": [
    {
     "name": "stdout",
     "output_type": "stream",
     "text": [
      "k\n"
     ]
    }
   ],
   "source": [
    "string = 'ksk'\n",
    "print (string [:1])"
   ]
  },
  {
   "cell_type": "code",
   "execution_count": null,
   "id": "ac283bb7",
   "metadata": {},
   "outputs": [
    {
     "data": {
      "text/plain": [
       "'Ksk'"
      ]
     },
     "execution_count": 30,
     "metadata": {},
     "output_type": "execute_result"
    }
   ],
   "source": [
    "string.capitalize() # first latter will be capitalize"
   ]
  },
  {
   "cell_type": "code",
   "execution_count": null,
   "id": "ae61afae",
   "metadata": {},
   "outputs": [
    {
     "name": "stdout",
     "output_type": "stream",
     "text": [
      "-1\n"
     ]
    }
   ],
   "source": [
    "print(string.find('Ksk'))"
   ]
  },
  {
   "cell_type": "code",
   "execution_count": null,
   "id": "5a6d70e8",
   "metadata": {},
   "outputs": [
    {
     "name": "stdout",
     "output_type": "stream",
     "text": [
      "ksk\n"
     ]
    }
   ],
   "source": [
    "print(string.replace('Ksk','l'))"
   ]
  },
  {
   "cell_type": "code",
   "execution_count": null,
   "id": "cceabc2c",
   "metadata": {},
   "outputs": [],
   "source": []
  },
  {
   "cell_type": "markdown",
   "id": "d8d155da",
   "metadata": {},
   "source": [
    "# i/o file"
   ]
  },
  {
   "cell_type": "markdown",
   "id": "88e45580",
   "metadata": {},
   "source": [
    "# open file "
   ]
  },
  {
   "cell_type": "code",
   "execution_count": null,
   "id": "fc64fa48",
   "metadata": {},
   "outputs": [
    {
     "ename": "FileNotFoundError",
     "evalue": "[Errno 2] No such file or directory: 'harry.txt'",
     "output_type": "error",
     "traceback": [
      "\u001b[1;31m---------------------------------------------------------------------------\u001b[0m",
      "\u001b[1;31mFileNotFoundError\u001b[0m                         Traceback (most recent call last)",
      "Input \u001b[1;32mIn [37]\u001b[0m, in \u001b[0;36m<cell line: 1>\u001b[1;34m()\u001b[0m\n\u001b[1;32m----> 1\u001b[0m file \u001b[38;5;241m=\u001b[39m \u001b[38;5;28;43mopen\u001b[39;49m\u001b[43m(\u001b[49m\u001b[38;5;124;43m\"\u001b[39;49m\u001b[38;5;124;43mharry.txt\u001b[39;49m\u001b[38;5;124;43m\"\u001b[39;49m\u001b[43m,\u001b[49m\u001b[38;5;124;43m'\u001b[39;49m\u001b[38;5;124;43mr+\u001b[39;49m\u001b[38;5;124;43m'\u001b[39;49m\u001b[43m)\u001b[49m\n\u001b[0;32m      2\u001b[0m text_to_read\u001b[38;5;241m=\u001b[39mfile\u001b[38;5;241m.\u001b[39mread()\n\u001b[0;32m      3\u001b[0m \u001b[38;5;28mprint\u001b[39m(text_to_read)\n",
      "\u001b[1;31mFileNotFoundError\u001b[0m: [Errno 2] No such file or directory: 'harry.txt'"
     ]
    }
   ],
   "source": [
    "file = open(\"harry.txt\",'r+')\n",
    "text_to_read=file.read()\n",
    "print(text_to_read)"
   ]
  },
  {
   "cell_type": "markdown",
   "id": "852f1edb",
   "metadata": {},
   "source": [
    "# oops"
   ]
  },
  {
   "cell_type": "code",
   "execution_count": null,
   "id": "2c9e322a",
   "metadata": {},
   "outputs": [
    {
     "ename": "IndentationError",
     "evalue": "expected an indented block (4140400012.py, line 7)",
     "output_type": "error",
     "traceback": [
      "\u001b[1;36m  Input \u001b[1;32mIn [47]\u001b[1;36m\u001b[0m\n\u001b[1;33m    def set_name(self,name):\u001b[0m\n\u001b[1;37m    ^\u001b[0m\n\u001b[1;31mIndentationError\u001b[0m\u001b[1;31m:\u001b[0m expected an indented block\n"
     ]
    }
   ],
   "source": [
    "class employ:\n",
    "    _name=None # mean private variabel can not be acces from outside of it \n",
    "    _id=0\n",
    "    _salary=0\n",
    "    \n",
    "    def _init_(self):        # making constructor \n",
    "    def set_name(self,name):\n",
    "        self._name=name\n",
    "    def get_name(self):\n",
    "        return self._name\n",
    "        \n",
    "    def set_name(self,id):\n",
    "        self._id=id\n",
    "        \n",
    "    def get_id(self,name):\n",
    "        return self._id\n",
    "        \n",
    "             \n",
    "    def salary_name(self,salary):\n",
    "        self._salary=salary\n",
    "        \n",
    "furqan =employ ('furqan',444,33343)\n",
    "print(furqan.get_name('furqan')\n",
    "\n",
    "    "
   ]
  },
  {
   "cell_type": "code",
   "execution_count": null,
   "id": "616b6f7f",
   "metadata": {},
   "outputs": [],
   "source": []
  }
 ],
 "metadata": {
  "kernelspec": {
   "display_name": "Python 3.10.7 64-bit",
   "language": "python",
   "name": "python3"
  },
  "language_info": {
   "codemirror_mode": {
    "name": "ipython",
    "version": 3
   },
   "file_extension": ".py",
   "mimetype": "text/x-python",
   "name": "python",
   "nbconvert_exporter": "python",
   "pygments_lexer": "ipython3",
   "version": "3.10.7"
  },
  "vscode": {
   "interpreter": {
    "hash": "fbc768028c3e6ead51d9a200ddcb2ec858ae62844dcd1994729a8279be9b48f2"
   }
  }
 },
 "nbformat": 4,
 "nbformat_minor": 5
}
